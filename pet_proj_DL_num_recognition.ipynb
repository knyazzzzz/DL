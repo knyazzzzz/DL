{
 "cells": [
  {
   "cell_type": "markdown",
   "id": "ca60d610",
   "metadata": {},
   "source": [
    "### Пет-проект на тему \n",
    "### *Распознавание рукописных цифр с помощью обучения нейронной сети с одним скрытым слоем*\n",
    "\n",
    "\n",
    "```\n",
    "Импорт библиотек tensorflow, keras, seaborn, numpy & matplotlib\n",
    "```"
   ]
  },
  {
   "cell_type": "code",
   "execution_count": 1,
   "id": "5ce3b93b",
   "metadata": {},
   "outputs": [],
   "source": [
    "import tensorflow as tf\n",
    "from tensorflow import keras\n",
    "\n",
    "import matplotlib.pyplot as plt\n",
    "%matplotlib inline\n",
    "import numpy as np\n",
    "import seaborn as sns"
   ]
  },
  {
   "cell_type": "markdown",
   "id": "fb0a385e",
   "metadata": {},
   "source": [
    "```\n",
    "Импорт стандартного датасета библиотеки Keras для практики над распознаванием рукописного текста в 4 массива\n",
    "```"
   ]
  },
  {
   "cell_type": "code",
   "execution_count": 2,
   "id": "97452240",
   "metadata": {},
   "outputs": [],
   "source": [
    "(X_train, y_train), (X_test, y_test) = keras.datasets.mnist.load_data()"
   ]
  },
  {
   "cell_type": "markdown",
   "id": "35485fb9",
   "metadata": {},
   "source": [
    "```\n",
    "Формат входных данных типа X - матрицы размером 28x28, каждая ячейка которых содержит число (0-255), отражающее степень закрашенности соответствующего квадрата пикселями цифры\n",
    "Формат входных данных типа y - одномерный массив с реальными значениями цифр\n",
    "```"
   ]
  },
  {
   "cell_type": "code",
   "execution_count": 3,
   "id": "d3efd4e7",
   "metadata": {},
   "outputs": [
    {
     "data": {
      "text/plain": [
       "(60000, 28, 28)"
      ]
     },
     "execution_count": 3,
     "metadata": {},
     "output_type": "execute_result"
    }
   ],
   "source": [
    "X_train.shape"
   ]
  },
  {
   "cell_type": "code",
   "execution_count": 4,
   "id": "66de61dd",
   "metadata": {},
   "outputs": [
    {
     "data": {
      "text/plain": [
       "(60000,)"
      ]
     },
     "execution_count": 4,
     "metadata": {},
     "output_type": "execute_result"
    }
   ],
   "source": [
    "y_train.shape"
   ]
  },
  {
   "cell_type": "code",
   "execution_count": 5,
   "id": "d7207d69",
   "metadata": {},
   "outputs": [
    {
     "data": {
      "text/plain": [
       "array([[0, 0, 0, 0, 0, 0, 0, 0, 0, 0, 0, 0, 0, 0, 0, 0, 0, 0, 0, 0, 0, 0,\n",
       "        0, 0, 0, 0, 0, 0],\n",
       "       [0, 0, 0, 0, 0, 0, 0, 0, 0, 0, 0, 0, 0, 0, 0, 0, 0, 0, 0, 0, 0, 0,\n",
       "        0, 0, 0, 0, 0, 0]], dtype=uint8)"
      ]
     },
     "execution_count": 5,
     "metadata": {},
     "output_type": "execute_result"
    }
   ],
   "source": [
    "X_train[0][:2]   # первые 2 строки первой матрицы"
   ]
  },
  {
   "cell_type": "code",
   "execution_count": 6,
   "id": "ad615988",
   "metadata": {},
   "outputs": [
    {
     "data": {
      "text/plain": [
       "array([5, 0, 4, ..., 5, 6, 8], dtype=uint8)"
      ]
     },
     "execution_count": 6,
     "metadata": {},
     "output_type": "execute_result"
    }
   ],
   "source": [
    "y_train"
   ]
  },
  {
   "cell_type": "markdown",
   "id": "d3d8bba8",
   "metadata": {},
   "source": [
    "```\n",
    "Нормализация значений в массивах данных, до нормализации они лежат в диапазоне 0-255\n",
    "```"
   ]
  },
  {
   "cell_type": "code",
   "execution_count": 7,
   "id": "c885cb65",
   "metadata": {},
   "outputs": [],
   "source": [
    "X_train = X_train / 255\n",
    "X_test = X_test / 255"
   ]
  },
  {
   "cell_type": "markdown",
   "id": "dcfe3f8e",
   "metadata": {},
   "source": [
    "```\n",
    "2 метода визуализации входных данных\n",
    "```"
   ]
  },
  {
   "cell_type": "code",
   "execution_count": 8,
   "id": "c777b7f2",
   "metadata": {},
   "outputs": [
    {
     "data": {
      "text/plain": [
       "<matplotlib.image.AxesImage at 0x1f105f1b820>"
      ]
     },
     "execution_count": 8,
     "metadata": {},
     "output_type": "execute_result"
    },
    {
     "data": {
      "image/png": "[encoded data removed]",
      "text/plain": [
       "<Figure size 288x288 with 1 Axes>"
      ]
     },
     "metadata": {
      "needs_background": "light"
     },
     "output_type": "display_data"
    }
   ],
   "source": [
    "plt.matshow(X_train[0])"
   ]
  },
  {
   "cell_type": "code",
   "execution_count": 9,
   "id": "308d890e",
   "metadata": {},
   "outputs": [
    {
     "data": {
      "text/plain": [
       "<AxesSubplot:>"
      ]
     },
     "execution_count": 9,
     "metadata": {},
     "output_type": "execute_result"
    },
    {
     "data": {
      "image/png": "[encoded data removed]",
      "text/plain": [
       "<Figure size 432x288 with 2 Axes>"
      ]
     },
     "metadata": {
      "needs_background": "light"
     },
     "output_type": "display_data"
    }
   ],
   "source": [
    "sns.heatmap(X_train[0])"
   ]
  },
  {
   "cell_type": "markdown",
   "id": "a00c0ae2",
   "metadata": {},
   "source": [
    "```\n",
    "Преобразование входных данных из двумерных массивов в одномерные\n",
    "```"
   ]
  },
  {
   "cell_type": "code",
   "execution_count": 10,
   "id": "3ab1b2b5",
   "metadata": {},
   "outputs": [],
   "source": [
    "X_train_flattened = X_train.reshape(len(X_train), 28*28)\n",
    "X_test_flattened = X_test.reshape(len(X_test), 28*28)"
   ]
  },
  {
   "cell_type": "code",
   "execution_count": 11,
   "id": "b06fef2c",
   "metadata": {},
   "outputs": [
    {
     "data": {
      "text/plain": [
       "(10000, 784)"
      ]
     },
     "execution_count": 11,
     "metadata": {},
     "output_type": "execute_result"
    }
   ],
   "source": [
    "X_test_flattened.shape"
   ]
  },
  {
   "cell_type": "markdown",
   "id": "2f68df44",
   "metadata": {},
   "source": [
    "```\n",
    "ПОСТРОЕНИЕ НЕЙРОННОЙ СЕТИ\n",
    "- .Sequential() предоставляет возможность создавать слои нейронов и работать с ними,\n",
    "- .layers.Dense() создает связь слоев (и сами слои, если их еще нет) нейронной сети: \n",
    "    первый параметр - количество выходных слоев, \n",
    "    input_shape - размерность входного слоя, \n",
    "    activation - активационная функция нейронов в этом слое,  \n",
    "- .compile() - необходимый метод для формирования нейронной сети: \n",
    "    optimizer - выбор метода оптимизации работы нейросети, loss - то, что должна минимизировать модель в ходе обучения, \n",
    "    metrics - критерий, по которому будет вестись оценка эффективности модели,\n",
    "- .fit() обучение нейронной сети на выбранном датасете: \n",
    "    epochs - сколько раз будет перебран весь датасет\n",
    "```"
   ]
  },
  {
   "cell_type": "code",
   "execution_count": 12,
   "id": "5f7c7f88",
   "metadata": {},
   "outputs": [
    {
     "name": "stdout",
     "output_type": "stream",
     "text": [
      "Epoch 1/5\n",
      "1875/1875 [==============================] - 3s 2ms/step - loss: 0.4676 - accuracy: 0.8780\n",
      "Epoch 2/5\n",
      "1875/1875 [==============================] - 3s 2ms/step - loss: 0.3038 - accuracy: 0.9151\n",
      "Epoch 3/5\n",
      "1875/1875 [==============================] - 3s 2ms/step - loss: 0.2837 - accuracy: 0.9210\n",
      "Epoch 4/5\n",
      "1875/1875 [==============================] - 3s 1ms/step - loss: 0.2729 - accuracy: 0.9238\n",
      "Epoch 5/5\n",
      "1875/1875 [==============================] - 2s 1ms/step - loss: 0.2660 - accuracy: 0.9266\n"
     ]
    },
    {
     "data": {
      "text/plain": [
       "<keras.callbacks.History at 0x1f106298ee0>"
      ]
     },
     "execution_count": 12,
     "metadata": {},
     "output_type": "execute_result"
    }
   ],
   "source": [
    "model = keras.Sequential([\n",
    "    keras.layers.Dense(10, input_shape = (784, ), activation = 'sigmoid')\n",
    "])\n",
    "\n",
    "model.compile(optimizer = 'adam',  \n",
    "              loss = 'sparse_categorical_crossentropy',\n",
    "              metrics = ['accuracy']\n",
    ")\n",
    "\n",
    "model.fit(X_train_flattened, y_train, epochs = 5)"
   ]
  },
  {
   "cell_type": "markdown",
   "id": "496cd8ec",
   "metadata": {},
   "source": [
    "```\n",
    "Аналог .score() из sklearn, проверка эффективности модели на заданных входных и выходных данных\n",
    "```"
   ]
  },
  {
   "cell_type": "code",
   "execution_count": 13,
   "id": "cbe742c8",
   "metadata": {},
   "outputs": [
    {
     "name": "stdout",
     "output_type": "stream",
     "text": [
      "313/313 [==============================] - 0s 1ms/step - loss: 0.2670 - accuracy: 0.9257\n"
     ]
    },
    {
     "data": {
      "text/plain": [
       "[0.2670382857322693, 0.9257000088691711]"
      ]
     },
     "execution_count": 13,
     "metadata": {},
     "output_type": "execute_result"
    }
   ],
   "source": [
    "model.evaluate(X_test_flattened, y_test)   # == .score()"
   ]
  },
  {
   "cell_type": "code",
   "execution_count": 14,
   "id": "6621009e",
   "metadata": {
    "scrolled": true
   },
   "outputs": [
    {
     "data": {
      "text/plain": [
       "<AxesSubplot:>"
      ]
     },
     "execution_count": 14,
     "metadata": {},
     "output_type": "execute_result"
    },
    {
     "data": {
      "image/png": "[encoded data removed]",
      "text/plain": [
       "<Figure size 432x288 with 2 Axes>"
      ]
     },
     "metadata": {
      "needs_background": "light"
     },
     "output_type": "display_data"
    }
   ],
   "source": [
    "sns.heatmap(X_test[8], annot=False)"
   ]
  },
  {
   "cell_type": "markdown",
   "id": "dfc0e826",
   "metadata": {},
   "source": [
    "```\n",
    "Результат работы нейросети - распознавание введенного набора пикселей и вывод конкретной цифры\n",
    "```"
   ]
  },
  {
   "cell_type": "code",
   "execution_count": 15,
   "id": "bf597ecc",
   "metadata": {},
   "outputs": [
    {
     "name": "stdout",
     "output_type": "stream",
     "text": [
      "313/313 [==============================] - 0s 941us/step\n"
     ]
    }
   ],
   "source": [
    "y_predicted = model.predict(X_test_flattened)"
   ]
  },
  {
   "cell_type": "code",
   "execution_count": 16,
   "id": "01f3789b",
   "metadata": {},
   "outputs": [
    {
     "data": {
      "text/plain": [
       "6"
      ]
     },
     "execution_count": 16,
     "metadata": {},
     "output_type": "execute_result"
    }
   ],
   "source": [
    "np.argmax(y_predicted[8])"
   ]
  },
  {
   "cell_type": "code",
   "execution_count": 17,
   "id": "6c7666f4",
   "metadata": {},
   "outputs": [],
   "source": [
    "y_predicted_labels = [np.argmax(i) for i in y_predicted]"
   ]
  },
  {
   "cell_type": "code",
   "execution_count": 18,
   "id": "b9793a44",
   "metadata": {},
   "outputs": [
    {
     "data": {
      "text/plain": [
       "[7, 2, 1, 0, 4]"
      ]
     },
     "execution_count": 18,
     "metadata": {},
     "output_type": "execute_result"
    }
   ],
   "source": [
    "y_predicted_labels[:5]"
   ]
  },
  {
   "cell_type": "code",
   "execution_count": 19,
   "id": "3318ba57",
   "metadata": {},
   "outputs": [
    {
     "data": {
      "text/plain": [
       "array([7, 2, 1, 0, 4], dtype=uint8)"
      ]
     },
     "execution_count": 19,
     "metadata": {},
     "output_type": "execute_result"
    }
   ],
   "source": [
    "y_test[:5]"
   ]
  },
  {
   "cell_type": "markdown",
   "id": "8bf020fe",
   "metadata": {},
   "source": [
    "```\n",
    "Формирование confusion matrix - матрицы, показывающей совпадение/различие реальных значений и предсказанных\n",
    "```"
   ]
  },
  {
   "cell_type": "code",
   "execution_count": 20,
   "id": "66493296",
   "metadata": {},
   "outputs": [
    {
     "data": {
      "text/plain": [
       "<tf.Tensor: shape=(10, 10), dtype=int32, numpy=\n",
       "array([[ 954,    0,    1,    2,    0,   10,    6,    3,    3,    1],\n",
       "       [   0, 1116,    2,    2,    0,    1,    4,    2,    8,    0],\n",
       "       [   4,   10,  925,   16,    6,    5,   12,   11,   39,    4],\n",
       "       [   1,    0,   17,  933,    0,   23,    2,   12,   15,    7],\n",
       "       [   1,    1,    4,    2,  914,    0,   10,    5,   11,   34],\n",
       "       [   7,    3,    3,   37,    6,  785,   12,    5,   29,    5],\n",
       "       [   8,    3,    5,    1,    7,   21,  908,    2,    3,    0],\n",
       "       [   1,    5,   20,    8,    6,    1,    0,  954,    4,   29],\n",
       "       [   5,   11,    6,   29,    9,   34,    9,   11,  854,    6],\n",
       "       [   9,    7,    1,   13,   25,    8,    0,   25,    7,  914]])>"
      ]
     },
     "execution_count": 20,
     "metadata": {},
     "output_type": "execute_result"
    }
   ],
   "source": [
    "cm = tf.math.confusion_matrix(labels = y_test,\n",
    "                        predictions = y_predicted_labels)\n",
    "cm"
   ]
  },
  {
   "cell_type": "markdown",
   "id": "4c7f2ed6",
   "metadata": {},
   "source": [
    "```\n",
    "Визуализация confusion matrix\n",
    "```"
   ]
  },
  {
   "cell_type": "code",
   "execution_count": 21,
   "id": "231f7ac3",
   "metadata": {},
   "outputs": [
    {
     "data": {
      "text/plain": [
       "Text(69.0, 0.5, 'Truth')"
      ]
     },
     "execution_count": 21,
     "metadata": {},
     "output_type": "execute_result"
    },
    {
     "data": {
      "image/png": "[encoded data removed]",
      "text/plain": [
       "<Figure size 720x504 with 2 Axes>"
      ]
     },
     "metadata": {
      "needs_background": "light"
     },
     "output_type": "display_data"
    }
   ],
   "source": [
    "plt.figure(figsize = (10, 7))\n",
    "sns.heatmap(cm, annot = True, fmt = 'd')\n",
    "plt.xlabel('Predicted')\n",
    "plt.ylabel('Truth')"
   ]
  },
  {
   "cell_type": "markdown",
   "id": "7e9b6c2f",
   "metadata": {},
   "source": [
    "```\n",
    "Формирование нейросети с одним скрытым слоем из 100 нейронов и активационной функцией ReLu\n",
    "```"
   ]
  },
  {
   "cell_type": "code",
   "execution_count": 22,
   "id": "010aae34",
   "metadata": {},
   "outputs": [
    {
     "name": "stdout",
     "output_type": "stream",
     "text": [
      "Epoch 1/5\n",
      "1875/1875 [==============================] - 4s 2ms/step - loss: 0.2738 - accuracy: 0.9215\n",
      "Epoch 2/5\n",
      "1875/1875 [==============================] - 3s 2ms/step - loss: 0.1249 - accuracy: 0.9637\n",
      "Epoch 3/5\n",
      "1875/1875 [==============================] - 3s 2ms/step - loss: 0.0884 - accuracy: 0.9732\n",
      "Epoch 4/5\n",
      "1875/1875 [==============================] - 3s 2ms/step - loss: 0.0678 - accuracy: 0.9791\n",
      "Epoch 5/5\n",
      "1875/1875 [==============================] - 3s 2ms/step - loss: 0.0529 - accuracy: 0.9836\n"
     ]
    },
    {
     "data": {
      "text/plain": [
       "<keras.callbacks.History at 0x1f1064e2e20>"
      ]
     },
     "execution_count": 22,
     "metadata": {},
     "output_type": "execute_result"
    }
   ],
   "source": [
    "model = keras.Sequential([\n",
    "    keras.layers.Dense(100, input_shape = (784, ), activation = 'relu'),\n",
    "#     Если мы не хотим заранее 'выпрямлять' входной массив, то можно использовать конструкцию ниже вместо первого слоя. \n",
    "#     Тогда в .fit() будет (X_train, y_train, epochs = 5)\n",
    "    \n",
    "#     keras.layers.Flatten(input_shape = (28, 28)),  \n",
    "#     keras.layers.Dense(100, activation = 'relu'), \n",
    "    \n",
    "    keras.layers.Dense(10, activation = 'sigmoid')\n",
    "])\n",
    "\n",
    "model.compile(optimizer = 'adam',\n",
    "              loss = 'sparse_categorical_crossentropy',\n",
    "              metrics = ['accuracy']\n",
    ")\n",
    "\n",
    "model.fit(X_train_flattened, y_train, epochs = 5)"
   ]
  },
  {
   "cell_type": "code",
   "execution_count": 23,
   "id": "df1fa384",
   "metadata": {},
   "outputs": [
    {
     "name": "stdout",
     "output_type": "stream",
     "text": [
      "313/313 [==============================] - 1s 1ms/step - loss: 0.0768 - accuracy: 0.9755\n"
     ]
    },
    {
     "data": {
      "text/plain": [
       "[0.07681219279766083, 0.9754999876022339]"
      ]
     },
     "execution_count": 23,
     "metadata": {},
     "output_type": "execute_result"
    }
   ],
   "source": [
    "model.evaluate(X_test_flattened, y_test)"
   ]
  },
  {
   "cell_type": "code",
   "execution_count": 24,
   "id": "c41537f5",
   "metadata": {},
   "outputs": [
    {
     "name": "stdout",
     "output_type": "stream",
     "text": [
      "313/313 [==============================] - 0s 1ms/step\n"
     ]
    },
    {
     "data": {
      "text/plain": [
       "Text(69.0, 0.5, 'Truth')"
      ]
     },
     "execution_count": 24,
     "metadata": {},
     "output_type": "execute_result"
    },
    {
     "data": {
      "image/png": "[encoded data removed]",
      "text/plain": [
       "<Figure size 720x504 with 2 Axes>"
      ]
     },
     "metadata": {
      "needs_background": "light"
     },
     "output_type": "display_data"
    }
   ],
   "source": [
    "y_predicted = model.predict(X_test_flattened)\n",
    "y_predicted_labels = [np.argmax(i) for i in y_predicted]\n",
    "cm = tf.math.confusion_matrix(labels = y_test,\n",
    "                        predictions = y_predicted_labels)\n",
    "plt.figure(figsize = (10, 7))\n",
    "sns.heatmap(cm, annot = True, fmt = 'd')\n",
    "plt.xlabel('Predicted')\n",
    "plt.ylabel('Truth')"
   ]
  },
  {
   "cell_type": "markdown",
   "id": "85dee720",
   "metadata": {},
   "source": [
    "```\n",
    "Как видно из confusion matrix выше, эта нейронная сеть номного эффективнее справляется с задачей\n",
    "```"
   ]
  }
 ],
 "metadata": {
  "kernelspec": {
   "display_name": "Python 3 (ipykernel)",
   "language": "python",
   "name": "python3"
  },
  "language_info": {
   "codemirror_mode": {
    "name": "ipython",
    "version": 3
   },
   "file_extension": ".py",
   "mimetype": "text/x-python",
   "name": "python",
   "nbconvert_exporter": "python",
   "pygments_lexer": "ipython3",
   "version": "3.9.5"
  }
 },
 "nbformat": 4,
 "nbformat_minor": 5
}
